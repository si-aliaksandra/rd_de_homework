{
 "cells": [
  {
   "cell_type": "code",
   "execution_count": 93,
   "id": "79b2fb9f",
   "metadata": {},
   "outputs": [],
   "source": [
    "from pyspark.sql import SparkSession\n",
    "import pyspark.sql.functions as F\n",
    "from pyspark.sql.functions import *\n",
    "import psycopg2\n",
    "from hdfs import InsecureClient\n",
    "from pyspark.sql.types import IntegerType\n",
    "\n",
    "import os\n",
    "from datetime import datetime"
   ]
  },
  {
   "cell_type": "code",
   "execution_count": 2,
   "id": "be3e2a1f",
   "metadata": {},
   "outputs": [],
   "source": [
    "pg_creds = {\n",
    "'host': '127.0.0.1',\n",
    "'port': '5432',\n",
    "'database': 'pagila' ,\n",
    "'user': 'pguser',\n",
    "'password': 'secret'\n",
    "}"
   ]
  },
  {
   "cell_type": "code",
   "execution_count": 3,
   "id": "92a05ccf",
   "metadata": {},
   "outputs": [],
   "source": [
    "client = InsecureClient('127.0.0.1:50070', user='user')"
   ]
  },
  {
   "cell_type": "code",
   "execution_count": 4,
   "id": "e515d582",
   "metadata": {},
   "outputs": [
    {
     "name": "stderr",
     "output_type": "stream",
     "text": [
      "Setting default log level to \"WARN\".\n",
      "To adjust logging level use sc.setLogLevel(newLevel). For SparkR, use setLogLevel(newLevel).\n"
     ]
    }
   ],
   "source": [
    "spark = SparkSession.builder\\\n",
    "    .config('spark.driver.extraClassPath'\n",
    "            , '/home/user/Shared/postgresql-42.3.2.jar')\\\n",
    "    .master('local')\\\n",
    "    .appName(\"hw6_spark\")\\\n",
    "    .getOrCreate()"
   ]
  },
  {
   "cell_type": "code",
   "execution_count": 12,
   "id": "91714a2a",
   "metadata": {},
   "outputs": [
    {
     "name": "stdout",
     "output_type": "stream",
     "text": [
      "root\n",
      " |-- film_id: integer (nullable = true)\n",
      " |-- category_id: integer (nullable = true)\n",
      " |-- last_update: timestamp (nullable = true)\n",
      "\n"
     ]
    }
   ],
   "source": [
    "df_film_category = spark.read \\\n",
    "    .format(\"jdbc\") \\\n",
    "    .option(\"url\", \"jdbc:postgresql://localhost:5432/pagila\") \\\n",
    "    .option(\"dbtable\", \"film_category\") \\\n",
    "    .option(\"user\", \"pguser\") \\\n",
    "    .option(\"password\", \"secret\") \\\n",
    "    .option(\"driver\", \"org.postgresql.Driver\") \\\n",
    "    .load()"
   ]
  },
  {
   "cell_type": "code",
   "execution_count": 63,
   "id": "5df5ef15",
   "metadata": {},
   "outputs": [],
   "source": [
    "df_category = spark.read \\\n",
    "    .format(\"jdbc\") \\\n",
    "    .option(\"url\", \"jdbc:postgresql://localhost:5432/pagila\") \\\n",
    "    .option(\"dbtable\", \"category\") \\\n",
    "    .option(\"user\", \"pguser\") \\\n",
    "    .option(\"password\", \"secret\") \\\n",
    "    .option(\"driver\", \"org.postgresql.Driver\") \\\n",
    "    .load()"
   ]
  },
  {
   "cell_type": "code",
   "execution_count": 64,
   "id": "7ca3f63b",
   "metadata": {},
   "outputs": [],
   "source": [
    "df_film = spark.read \\\n",
    "    .format(\"jdbc\") \\\n",
    "    .option(\"url\", \"jdbc:postgresql://localhost:5432/pagila\") \\\n",
    "    .option(\"dbtable\", \"film\") \\\n",
    "    .option(\"user\", \"pguser\") \\\n",
    "    .option(\"password\", \"secret\") \\\n",
    "    .option(\"driver\", \"org.postgresql.Driver\") \\\n",
    "    .load()"
   ]
  },
  {
   "cell_type": "code",
   "execution_count": 67,
   "id": "ba61e1a2",
   "metadata": {},
   "outputs": [],
   "source": [
    "df_film_actor = spark.read \\\n",
    "    .format(\"jdbc\") \\\n",
    "    .option(\"url\", \"jdbc:postgresql://localhost:5432/pagila\") \\\n",
    "    .option(\"dbtable\", \"film_actor\") \\\n",
    "    .option(\"user\", \"pguser\") \\\n",
    "    .option(\"password\", \"secret\") \\\n",
    "    .option(\"driver\", \"org.postgresql.Driver\") \\\n",
    "    .load()"
   ]
  },
  {
   "cell_type": "code",
   "execution_count": 68,
   "id": "7285bd80",
   "metadata": {},
   "outputs": [],
   "source": [
    "df_actor = spark.read \\\n",
    "    .format(\"jdbc\") \\\n",
    "    .option(\"url\", \"jdbc:postgresql://localhost:5432/pagila\") \\\n",
    "    .option(\"dbtable\", \"actor\") \\\n",
    "    .option(\"user\", \"pguser\") \\\n",
    "    .option(\"password\", \"secret\") \\\n",
    "    .option(\"driver\", \"org.postgresql.Driver\") \\\n",
    "    .load()"
   ]
  },
  {
   "cell_type": "code",
   "execution_count": 69,
   "id": "c5ff6005",
   "metadata": {},
   "outputs": [],
   "source": [
    "df_inventory= spark.read \\\n",
    "    .format(\"jdbc\") \\\n",
    "    .option(\"url\", \"jdbc:postgresql://localhost:5432/pagila\") \\\n",
    "    .option(\"dbtable\", \"inventory\") \\\n",
    "    .option(\"user\", \"pguser\") \\\n",
    "    .option(\"password\", \"secret\") \\\n",
    "    .option(\"driver\", \"org.postgresql.Driver\") \\\n",
    "    .load()"
   ]
  },
  {
   "cell_type": "code",
   "execution_count": 70,
   "id": "4c8d0ad8",
   "metadata": {},
   "outputs": [],
   "source": [
    "df_rental = spark.read \\\n",
    "    .format(\"jdbc\") \\\n",
    "    .option(\"url\", \"jdbc:postgresql://localhost:5432/pagila\") \\\n",
    "    .option(\"dbtable\", \"rental\") \\\n",
    "    .option(\"user\", \"pguser\") \\\n",
    "    .option(\"password\", \"secret\") \\\n",
    "    .option(\"driver\", \"org.postgresql.Driver\") \\\n",
    "    .load()"
   ]
  },
  {
   "cell_type": "code",
   "execution_count": 83,
   "id": "ff92ee73",
   "metadata": {},
   "outputs": [],
   "source": [
    "df_payment = spark.read \\\n",
    "    .format(\"jdbc\") \\\n",
    "    .option(\"url\", \"jdbc:postgresql://localhost:5432/pagila\") \\\n",
    "    .option(\"dbtable\", \"payment\") \\\n",
    "    .option(\"user\", \"pguser\") \\\n",
    "    .option(\"password\", \"secret\") \\\n",
    "    .option(\"driver\", \"org.postgresql.Driver\") \\\n",
    "    .load()"
   ]
  },
  {
   "cell_type": "code",
   "execution_count": 129,
   "id": "42f9b308",
   "metadata": {},
   "outputs": [],
   "source": [
    "df_customer = spark.read \\\n",
    "    .format(\"jdbc\") \\\n",
    "    .option(\"url\", \"jdbc:postgresql://localhost:5432/pagila\") \\\n",
    "    .option(\"dbtable\", \"customer\") \\\n",
    "    .option(\"user\", \"pguser\") \\\n",
    "    .option(\"password\", \"secret\") \\\n",
    "    .option(\"driver\", \"org.postgresql.Driver\") \\\n",
    "    .load()"
   ]
  },
  {
   "cell_type": "code",
   "execution_count": 130,
   "id": "0146a1ab",
   "metadata": {},
   "outputs": [],
   "source": [
    "df_address = spark.read \\\n",
    "    .format(\"jdbc\") \\\n",
    "    .option(\"url\", \"jdbc:postgresql://localhost:5432/pagila\") \\\n",
    "    .option(\"dbtable\", \"address\") \\\n",
    "    .option(\"user\", \"pguser\") \\\n",
    "    .option(\"password\", \"secret\") \\\n",
    "    .option(\"driver\", \"org.postgresql.Driver\") \\\n",
    "    .load()"
   ]
  },
  {
   "cell_type": "code",
   "execution_count": 131,
   "id": "0e85fa06",
   "metadata": {},
   "outputs": [],
   "source": [
    "df_city = spark.read \\\n",
    "    .format(\"jdbc\") \\\n",
    "    .option(\"url\", \"jdbc:postgresql://localhost:5432/pagila\") \\\n",
    "    .option(\"dbtable\", \"city\") \\\n",
    "    .option(\"user\", \"pguser\") \\\n",
    "    .option(\"password\", \"secret\") \\\n",
    "    .option(\"driver\", \"org.postgresql.Driver\") \\\n",
    "    .load()"
   ]
  },
  {
   "cell_type": "markdown",
   "id": "0ee2ada9",
   "metadata": {},
   "source": [
    "1. вывести количество фильмов в каждой категории, отсортировать по убыванию."
   ]
  },
  {
   "cell_type": "code",
   "execution_count": 50,
   "id": "6a60ea94",
   "metadata": {},
   "outputs": [
    {
     "name": "stderr",
     "output_type": "stream",
     "text": [
      "[Stage 67:=============================================>        (170 + 1) / 200]\r"
     ]
    },
    {
     "name": "stdout",
     "output_type": "stream",
     "text": [
      "+-----------+-----+\n",
      "|       name|count|\n",
      "+-----------+-----+\n",
      "|     Sports|   74|\n",
      "|    Foreign|   73|\n",
      "|     Family|   69|\n",
      "|Documentary|   68|\n",
      "|  Animation|   66|\n",
      "|     Action|   64|\n",
      "|        New|   63|\n",
      "|      Drama|   62|\n",
      "|     Sci-Fi|   61|\n",
      "|      Games|   61|\n",
      "|   Children|   60|\n",
      "|     Comedy|   58|\n",
      "|     Travel|   57|\n",
      "|   Classics|   57|\n",
      "|     Horror|   56|\n",
      "|      Music|   51|\n",
      "+-----------+-----+\n",
      "\n"
     ]
    },
    {
     "name": "stderr",
     "output_type": "stream",
     "text": [
      "                                                                                \r"
     ]
    }
   ],
   "source": [
    "task1 = df_category.join(df_film_category, df_category.category_id == df_film_category.category_id).groupby(\"name\").count()\n",
    "task1.sort(desc(\"count\")).show()"
   ]
  },
  {
   "cell_type": "markdown",
   "id": "19c8b789",
   "metadata": {},
   "source": [
    "2. вывести 10 актеров, чьи фильмы большего всего арендовали, отсортировать по убыванию."
   ]
  },
  {
   "cell_type": "code",
   "execution_count": 82,
   "id": "4e8d4186",
   "metadata": {},
   "outputs": [
    {
     "name": "stderr",
     "output_type": "stream",
     "text": [
      "[Stage 153:=================================>                   (128 + 1) / 200]\r"
     ]
    },
    {
     "name": "stdout",
     "output_type": "stream",
     "text": [
      "+------------------+-----+\n",
      "|         full_name|count|\n",
      "+------------------+-----+\n",
      "|    GINA DEGENERES|  753|\n",
      "|    MATTHEW CARREY|  678|\n",
      "|       MARY KEITEL|  674|\n",
      "|ANGELA WITHERSPOON|  654|\n",
      "|       WALTER TORN|  640|\n",
      "|       HENRY BERRY|  612|\n",
      "|       JAYNE NOLTE|  611|\n",
      "|        VAL BOLGER|  605|\n",
      "|     SANDRA KILMER|  604|\n",
      "|      SEAN GUINESS|  599|\n",
      "+------------------+-----+\n",
      "only showing top 10 rows\n",
      "\n"
     ]
    },
    {
     "name": "stderr",
     "output_type": "stream",
     "text": [
      "                                                                                \r"
     ]
    }
   ],
   "source": [
    "df_actor = df_actor.withColumn(\"full_name\", F.concat(\n",
    "                             F.col('first_name')\n",
    "                             ,F.lit(' ')\n",
    "                             ,F.col('last_name')\n",
    "                         ))\n",
    "task2 = df_film_actor.join(df_film, df_film_actor.film_id == df_film.film_id)\\\n",
    "                     .join(df_actor, df_film_actor.actor_id == df_actor.actor_id)\\\n",
    "                     .join(df_inventory, df_inventory.film_id == df_film.film_id)\\\n",
    "                     .join(df_rental, df_rental.inventory_id == df_inventory.inventory_id)\\\n",
    "                     .groupby(df_actor.actor_id, df_actor.full_name).count().sort(desc(\"count\"))\n",
    "task2.select(\"full_name\",\"count\").show(n=10)"
   ]
  },
  {
   "cell_type": "markdown",
   "id": "7262aea9",
   "metadata": {},
   "source": [
    "3. вывести категорию фильмов, на которую потратили больше всего денег."
   ]
  },
  {
   "cell_type": "code",
   "execution_count": 106,
   "id": "b02b3d4e",
   "metadata": {},
   "outputs": [
    {
     "data": {
      "text/plain": [
       "DataFrame[summary: string, payment_id: string, customer_id: string, staff_id: string, rental_id: string, amount: string]"
      ]
     },
     "execution_count": 106,
     "metadata": {},
     "output_type": "execute_result"
    }
   ],
   "source": [
    "df_payment.describe()"
   ]
  },
  {
   "cell_type": "code",
   "execution_count": 119,
   "id": "f6a24504",
   "metadata": {},
   "outputs": [
    {
     "name": "stderr",
     "output_type": "stream",
     "text": [
      "[Stage 223:=================================================>   (188 + 2) / 200]\r"
     ]
    },
    {
     "name": "stdout",
     "output_type": "stream",
     "text": [
      "+------+-----------+\n",
      "|  name|sum(amount)|\n",
      "+------+-----------+\n",
      "|Sports|       4150|\n",
      "+------+-----------+\n",
      "only showing top 1 row\n",
      "\n"
     ]
    },
    {
     "name": "stderr",
     "output_type": "stream",
     "text": [
      "                                                                                \r"
     ]
    }
   ],
   "source": [
    "task3 = df_film_category.join(df_category, \n",
    "                              df_category.category_id == df_film_category.category_id)\\\n",
    ".join(df_film, df_film.film_id == df_film_category.film_id)\\\n",
    ".join(df_inventory, df_film.film_id == df_inventory.film_id)\\\n",
    ".join(df_rental, df_rental.inventory_id == df_inventory.inventory_id)\\\n",
    ".join(df_payment, df_rental.rental_id == df_payment.rental_id)\\\n",
    ".groupby(df_category.name)\\\n",
    ".agg({'amount': 'sum'})\\\n",
    ".sort(desc(\"sum(amount)\"))\\\n",
    "\n",
    "task3.show(n=1)"
   ]
  },
  {
   "cell_type": "markdown",
   "id": "c21cb90f",
   "metadata": {},
   "source": [
    "4. вывести названия фильмов, которых нет в inventory."
   ]
  },
  {
   "cell_type": "code",
   "execution_count": 121,
   "id": "8541943d",
   "metadata": {},
   "outputs": [],
   "source": [
    "df_film.createOrReplaceTempView('film')\n",
    "df_inventory.createOrReplaceTempView('inventory')"
   ]
  },
  {
   "cell_type": "code",
   "execution_count": 122,
   "id": "4844c0ec",
   "metadata": {},
   "outputs": [
    {
     "name": "stdout",
     "output_type": "stream",
     "text": [
      "+--------------------+\n",
      "|               title|\n",
      "+--------------------+\n",
      "|      CHOCOLATE DUCK|\n",
      "|       BUTCH PANTHER|\n",
      "|        VOLUME HOUSE|\n",
      "|      ORDER BETRAYED|\n",
      "|        TADPOLE PARK|\n",
      "|    KILL BROTHERHOOD|\n",
      "|FRANKENSTEIN STRA...|\n",
      "|    CROSSING DIVORCE|\n",
      "|    SUICIDES SILENCE|\n",
      "|       CATCH AMISTAD|\n",
      "|     PERDITION FARGO|\n",
      "|       FLOATS GARDEN|\n",
      "|           GUMP DATE|\n",
      "|        WALLS ARTIST|\n",
      "|  GLADIATOR WESTWARD|\n",
      "|         HOCUS FRIDA|\n",
      "|ARSENIC INDEPENDENCE|\n",
      "|         MUPPET MILE|\n",
      "|   FIREHOUSE VIETNAM|\n",
      "|       ROOF CHAMPION|\n",
      "+--------------------+\n",
      "only showing top 20 rows\n",
      "\n"
     ]
    }
   ],
   "source": [
    "task4 = spark.sql('''\n",
    "select\n",
    "\tf.title\n",
    "from\n",
    "\tfilm f\n",
    "where\n",
    "\tnot exists (\n",
    "\tselect\n",
    "\t\tfilm_id\n",
    "\tfrom\n",
    "\t\tinventory i\n",
    "\twhere\n",
    "\t\ti.film_id = f.film_id)\n",
    "''')\n",
    "task4.show()"
   ]
  },
  {
   "cell_type": "markdown",
   "id": "cf23813c",
   "metadata": {},
   "source": [
    "5. вывести топ 3 актеров, которые больше всего появлялись в фильмах в категории “Children”. Если у нескольких актеров одинаковое кол-во фильмов, вывести всех.."
   ]
  },
  {
   "cell_type": "code",
   "execution_count": 123,
   "id": "fba7fa5e",
   "metadata": {},
   "outputs": [],
   "source": [
    "df_film_actor.createOrReplaceTempView('film_actor')\n",
    "df_film.createOrReplaceTempView('film')\n",
    "df_actor.createOrReplaceTempView('actor')\n",
    "df_film_category.createOrReplaceTempView('film_category')\n",
    "df_category.createOrReplaceTempView('category')"
   ]
  },
  {
   "cell_type": "code",
   "execution_count": 128,
   "id": "a0093e78",
   "metadata": {},
   "outputs": [
    {
     "name": "stderr",
     "output_type": "stream",
     "text": [
      "22/02/23 00:45:04 WARN window.WindowExec: No Partition Defined for Window operation! Moving all data to a single partition, this can cause serious performance degradation.\n",
      "[Stage 246:=============================================>       (171 + 1) / 200]\r"
     ]
    },
    {
     "name": "stdout",
     "output_type": "stream",
     "text": [
      "+--------------+\n",
      "|    actor_name|\n",
      "+--------------+\n",
      "|JULIANNE DENCH|\n",
      "|CAMERON STREEP|\n",
      "| NICK WAHLBERG|\n",
      "| RAY JOHANSSON|\n",
      "|   BOB FAWCETT|\n",
      "+--------------+\n",
      "\n"
     ]
    },
    {
     "name": "stderr",
     "output_type": "stream",
     "text": [
      "                                                                                \r"
     ]
    }
   ],
   "source": [
    "task5 = spark.sql('''\n",
    "select\n",
    "\tactor_name\n",
    "from    (\n",
    "select\n",
    "\ta.actor_id,\n",
    "\tfull_name as actor_name,\n",
    "\trank() over (\n",
    "\torder by count(f.film_id) desc) as actor_rank\n",
    "from\n",
    "\tactor a\n",
    "join film_actor fa on\n",
    "\ta.actor_id = fa.actor_id\n",
    "join film f on\n",
    "\tfa.film_id = f.film_id\n",
    "join film_category fc on\n",
    "\tf.film_id = fc.category_id\n",
    "join category c on\n",
    "\tfc.category_id = c.category_id\n",
    "where\n",
    "\tc.name = 'Children'\n",
    "group by\n",
    "\ta.actor_id, full_name )\n",
    "where\n",
    "\tactor_rank <= 3;\n",
    "''')\n",
    "task5.show()"
   ]
  },
  {
   "cell_type": "markdown",
   "id": "4edbab03",
   "metadata": {},
   "source": [
    "6. вывести города с количеством активных и неактивных клиентов (активный — customer.active = 1). Отсортировать по количеству неактивных клиентов по убыванию.\n"
   ]
  },
  {
   "cell_type": "code",
   "execution_count": 146,
   "id": "e70cf84c",
   "metadata": {},
   "outputs": [],
   "source": [
    "df_customer.createOrReplaceTempView('customer')\n",
    "df_address.createOrReplaceTempView('address')\n",
    "df_city.createOrReplaceTempView('city')"
   ]
  },
  {
   "cell_type": "code",
   "execution_count": 137,
   "id": "2f76b978",
   "metadata": {},
   "outputs": [
    {
     "name": "stderr",
     "output_type": "stream",
     "text": [
      "[Stage 268:==================================>                  (132 + 1) / 200]\r"
     ]
    },
    {
     "name": "stdout",
     "output_type": "stream",
     "text": [
      "+----------------+----------------+------------------+\n",
      "|            city|active_customers|inactive_customers|\n",
      "+----------------+----------------+------------------+\n",
      "|          Ktahya|               0|                 1|\n",
      "|Charlotte Amalie|               0|                 1|\n",
      "|         Wroclaw|               0|                 1|\n",
      "|       Pingxiang|               0|                 1|\n",
      "|     Szkesfehrvr|               0|                 1|\n",
      "|          Daxian|               0|                 1|\n",
      "|   Coatzacoalcos|               0|                 1|\n",
      "| Southend-on-Sea|               0|                 1|\n",
      "|         Bat Yam|               0|                 1|\n",
      "|        Uluberia|               0|                 1|\n",
      "|       Najafabad|               0|                 1|\n",
      "|        Xiangfan|               0|                 1|\n",
      "|      Kumbakonam|               0|                 1|\n",
      "|          Kamyin|               0|                 1|\n",
      "|          Amroha|               0|                 1|\n",
      "|            Linz|               1|                 0|\n",
      "|         Esfahan|               1|                 0|\n",
      "|          Jining|               1|                 0|\n",
      "|        Myingyan|               1|                 0|\n",
      "|       Mit Ghamr|               1|                 0|\n",
      "+----------------+----------------+------------------+\n",
      "only showing top 20 rows\n",
      "\n"
     ]
    },
    {
     "name": "stderr",
     "output_type": "stream",
     "text": [
      "                                                                                \r"
     ]
    }
   ],
   "source": [
    "task6 = spark.sql('''\n",
    "select\n",
    "\tc2.city ,\n",
    "\tcount(distinct case when c.active = 1 then c.customer_id end) as active_customers,\n",
    "\tcount(distinct case when coalesce(c.active, 0) = 0 then c.customer_id end) as inactive_customers\n",
    "from\n",
    "\tcustomer c\n",
    "left join address a on\n",
    "\tc.address_id = a.address_id\n",
    "left join city c2 on\n",
    "\ta.city_id = c2.city_id\n",
    "group by\n",
    "\tcity\n",
    "order by\n",
    "\tinactive_customers desc\n",
    "''')\n",
    "task6.show(n=20)"
   ]
  },
  {
   "cell_type": "markdown",
   "id": "2d0c4261",
   "metadata": {},
   "source": [
    "7. вывести категорию фильмов, у которой самое большое кол-во часов суммарной аренды в городах (customer.address_id в этом city), и которые начинаются на букву “a”. То же самое сделать для городов в которых есть символ “-”."
   ]
  },
  {
   "cell_type": "code",
   "execution_count": 149,
   "id": "6e233678",
   "metadata": {},
   "outputs": [
    {
     "name": "stderr",
     "output_type": "stream",
     "text": [
      "                                                                                \r"
     ]
    },
    {
     "name": "stdout",
     "output_type": "stream",
     "text": [
      "+--------------------+-------------+\n",
      "|           city_name|category_name|\n",
      "+--------------------+-------------+\n",
      "|city begins with \"a\"|       Sports|\n",
      "|   city contains \"-\"|      Foreign|\n",
      "+--------------------+-------------+\n",
      "\n"
     ]
    },
    {
     "name": "stderr",
     "output_type": "stream",
     "text": [
      "                                                                                \r"
     ]
    }
   ],
   "source": [
    "df_rental.createOrReplaceTempView('rental')\n",
    "task7 = spark.sql('''\n",
    "select\n",
    "\tcity_name,\n",
    "\tcategory_name\n",
    "from\n",
    "\t(\n",
    "select\n",
    "\tc2.city_name,\n",
    "\tc.name category_name,\n",
    "\trow_number () over (partition by city_name\n",
    "order by\n",
    "\tsum(date_part('day', r.return_date - r.rental_date) * 24 + date_part('hour', r.return_date - r.rental_date)) desc) as rnum\n",
    "from\n",
    "\tcategory c\n",
    "join film_category fc on\n",
    "\tc.category_id = fc.category_id\n",
    "join film f on\n",
    "\tfc.film_id = f.film_id\n",
    "join inventory i on\n",
    "\ti.film_id = f.film_id\n",
    "join rental r on\n",
    "\ti.inventory_id = r.inventory_id\n",
    "join customer c3 on\n",
    "\tr.customer_id = c3.customer_id\n",
    "join address a on\n",
    "\tc3.address_id = a.address_id\n",
    "join \n",
    "(\n",
    "\tselect\n",
    "\t\tcity_id,\n",
    "\t\t'city begins with \"a\"' city_name\n",
    "\tfrom\n",
    "\t\tcity\n",
    "\twhere\n",
    "\t\tcity like 'A%'\n",
    "union\n",
    "\tselect\n",
    "\t\tcity_id,\n",
    "\t\t'city contains \"-\"' city_name\n",
    "\tfrom\n",
    "\t\tcity\n",
    "\twhere\n",
    "\t\tcity like '%-%') c2 on\n",
    "\ta.city_id = c2.city_id\n",
    "group by\n",
    "\tc2.city_name,\n",
    "\tc.name)\n",
    "where\n",
    "\trnum = 1\n",
    "''')\n",
    "task7.show()\n"
   ]
  },
  {
   "cell_type": "code",
   "execution_count": null,
   "id": "c74987b2",
   "metadata": {},
   "outputs": [],
   "source": []
  }
 ],
 "metadata": {
  "kernelspec": {
   "display_name": "Python 3 (ipykernel)",
   "language": "python",
   "name": "python3"
  },
  "language_info": {
   "codemirror_mode": {
    "name": "ipython",
    "version": 3
   },
   "file_extension": ".py",
   "mimetype": "text/x-python",
   "name": "python",
   "nbconvert_exporter": "python",
   "pygments_lexer": "ipython3",
   "version": "3.8.8"
  }
 },
 "nbformat": 4,
 "nbformat_minor": 5
}
